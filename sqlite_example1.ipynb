{
 "cells": [
  {
   "cell_type": "code",
   "execution_count": 11,
   "metadata": {},
   "outputs": [
    {
     "name": "stdout",
     "output_type": "stream",
     "text": [
      "[('John', '33993388', 'john@gmail.com'), ('Mary', '0044345345', 'mary@hotmail.com')]\n"
     ]
    }
   ],
   "source": [
    "import sqlite3\n",
    "\n",
    "db = sqlite3.connect('mydb1')\n",
    "\n",
    "cursor = db.cursor()\n",
    "cursor.execute('''CREATE TABLE users(id INTEGER PRIMARY KEY, name TEXT, phone TEXT, email TEXT unique)''')\n",
    "cursor.execute('''INSERT INTO users(name, phone, email) VALUES(\"John\", \"33993388\", \"john@gmail.com\")''')\n",
    "cursor.execute('''INSERT INTO users(name, phone, email) VALUES(\"Mary\", \"0044345345\", \"mary@hotmail.com\")''')\n",
    "db.commit()\n",
    "\n",
    "cursor.execute('''SELECT name, phone, email FROM users''')\n",
    "all_users = cursor.fetchall()\n",
    "print(all_users)\n",
    "\n",
    "db.close()"
   ]
  }
 ],
 "metadata": {
  "kernelspec": {
   "display_name": "Python 3",
   "language": "python",
   "name": "python3"
  },
  "language_info": {
   "codemirror_mode": {
    "name": "ipython",
    "version": 3
   },
   "file_extension": ".py",
   "mimetype": "text/x-python",
   "name": "python",
   "nbconvert_exporter": "python",
   "pygments_lexer": "ipython3",
   "version": "3.7.0"
  }
 },
 "nbformat": 4,
 "nbformat_minor": 2
}
